{
  "nbformat": 4,
  "nbformat_minor": 0,
  "metadata": {
    "colab": {
      "provenance": [],
      "toc_visible": true
    },
    "kernelspec": {
      "name": "python3",
      "display_name": "Python 3"
    },
    "language_info": {
      "name": "python"
    }
  },
  "cells": [
    {
      "cell_type": "code",
      "source": [
        "from google.colab import drive\n",
        "drive.mount('/content/drive', force_remount=True)"
      ],
      "metadata": {
        "colab": {
          "base_uri": "https://localhost:8080/"
        },
        "id": "hLKoqtfpTVd4",
        "outputId": "511aed24-3448-4612-b369-b570b1e03372"
      },
      "execution_count": 3,
      "outputs": [
        {
          "output_type": "stream",
          "name": "stdout",
          "text": [
            "Mounted at /content/drive\n"
          ]
        }
      ]
    },
    {
      "cell_type": "markdown",
      "source": [
        "# Sobre o notebook\n",
        "\n",
        "A \"hora da prática\" é uma atividade do curso de Python para Data Science da Alura que contém diversos desafios envolvendo os aprendizados de cada aula.\n",
        "\n",
        "O notebook \"hora da pratica\" é um notebook construído com espaço para as células dos desafios propostos no curso, com ele você tem espaço para construir e executar suas soluções"
      ],
      "metadata": {
        "id": "_kwAaQ36gLQ1"
      }
    },
    {
      "cell_type": "markdown",
      "source": [
        "## Aula 1 - Introdução ao Python"
      ],
      "metadata": {
        "id": "Mc-KN0dA0Z83"
      }
    },
    {
      "cell_type": "markdown",
      "source": [
        "### Questão 1\n",
        "\n",
        "Imprima a frase `Escola de Dados da Alura!`"
      ],
      "metadata": {
        "id": "l5eLWf0W0ikn"
      }
    },
    {
      "cell_type": "code",
      "source": [
        "print ('Escola de Dados da Alura!')"
      ],
      "metadata": {
        "id": "5pllxJ0h0-yA",
        "colab": {
          "base_uri": "https://localhost:8080/"
        },
        "outputId": "f3f34fc7-1526-4ac6-e046-9e19b216f02d"
      },
      "execution_count": null,
      "outputs": [
        {
          "output_type": "stream",
          "name": "stdout",
          "text": [
            "Escola de Dados da Alura!\n"
          ]
        }
      ]
    },
    {
      "cell_type": "code",
      "source": [],
      "metadata": {
        "id": "2tVePnXKCJa4"
      },
      "execution_count": null,
      "outputs": []
    },
    {
      "cell_type": "markdown",
      "source": [
        "### Questão 2\n",
        "Imprima na tela seu nome e seu sobrenome seguindo a estrutura abaixo:\n",
        "```\n",
        "Nome: [seu nome]\n",
        "Sobrenome: [seu sobrenome]\n",
        "```\n"
      ],
      "metadata": {
        "id": "tQdX90Ue03c7"
      }
    },
    {
      "cell_type": "code",
      "source": [
        "nome = ['Araken']\n",
        "sobrenome = ['Carmo Neto']\n",
        "print (nome[0]+\" \"+ sobrenome[0])"
      ],
      "metadata": {
        "id": "RVw5iKn20_Ps"
      },
      "execution_count": null,
      "outputs": []
    },
    {
      "cell_type": "markdown",
      "source": [
        "### Questão 3\n",
        "Imprima o seu primeiro nome letra a letra. Por exemplo, nome é Mirla, então eu obtenho a seguinte saída:\n",
        "```\n",
        "M\n",
        "I\n",
        "R\n",
        "L\n",
        "A\n",
        "```\n"
      ],
      "metadata": {
        "id": "gfg-aiip03vC"
      }
    },
    {
      "cell_type": "code",
      "source": [
        "nome = (\"A\",\"R\",\"A\",\"K\",\"E\",\"N\")\n",
        "\n",
        "for letra in nome:\n",
        "    \tprint (letra)\n"
      ],
      "metadata": {
        "id": "v5bkrgf60_qx"
      },
      "execution_count": null,
      "outputs": []
    },
    {
      "cell_type": "markdown",
      "source": [
        "### Questão 4\n",
        "Imprima o dia do seu nascimento em formato `dia mês ano`. Os valores de dia e ano não podem estar entre aspas. O formato deve estar como no exemplo, supondo uma data de aniversário dia 28 de fevereiro de 2003:\n",
        "```\n",
        "28 fevereiro 2003\n",
        "```"
      ],
      "metadata": {
        "id": "oadrJbl704MM"
      }
    },
    {
      "cell_type": "code",
      "source": [
        "dia = 28\n",
        "mes = 'junho'\n",
        "ano = 1987\n",
        "print(str(dia) + \" \" + mes + \" \" + str(ano))\n"
      ],
      "metadata": {
        "id": "cx0KSsrq1ALD"
      },
      "execution_count": null,
      "outputs": []
    },
    {
      "cell_type": "markdown",
      "source": [
        "### Questão 5\n",
        "Imprima em um único print o atual ano que você está fazendo esse curso, o valor do ano deve ser um dado numérico. A saída do print deve ser a seguinte:\n",
        "```\n",
        "Ano atual: [ano]\n",
        "```\n"
      ],
      "metadata": {
        "id": "3RgyMaan04TD"
      }
    },
    {
      "cell_type": "code",
      "execution_count": null,
      "metadata": {
        "id": "UN77EfQ2d36Y"
      },
      "outputs": [],
      "source": [
        "ano = \"Ano atual:\"\n",
        "Ano_atual = 2025\n",
        "print(ano + \" \" + str(Ano_atual))"
      ]
    },
    {
      "cell_type": "markdown",
      "source": [
        "## Aula 2 - Manipulando dados no Python"
      ],
      "metadata": {
        "id": "D9e3FqhO1S3X"
      }
    },
    {
      "cell_type": "markdown",
      "source": [
        "### Coleta e amostragem de dados"
      ],
      "metadata": {
        "id": "n6o7C1Ze2cRe"
      }
    },
    {
      "cell_type": "markdown",
      "source": [
        "#### Questão 1\n",
        "Crie um programa que solicite à pessoa usuária digitar seu nome, e imprima “Olá, [nome]!”."
      ],
      "metadata": {
        "id": "sRneWag9PV5Q"
      }
    },
    {
      "cell_type": "code",
      "source": [
        "nome = str(input('Digite seu nome'))\n",
        "print(nome)"
      ],
      "metadata": {
        "id": "dbX1fKqy2HnE"
      },
      "execution_count": null,
      "outputs": []
    },
    {
      "cell_type": "markdown",
      "source": [
        "#### Questão 2\n",
        "Crie um programa que solicite à pessoa usuária digitar seu nome e idade, e imprima “Olá, [nome], você tem [idade] anos.”."
      ],
      "metadata": {
        "id": "BJ1SznEp70d5"
      }
    },
    {
      "cell_type": "code",
      "source": [
        "nome = str (input('Digite seu nome:'))\n",
        "idade = int (input('Digite sua idade:'))\n",
        "print(f'ola {nome}, você tem {idade} anos')"
      ],
      "metadata": {
        "id": "jKz-0Sq8PFkp"
      },
      "execution_count": null,
      "outputs": []
    },
    {
      "cell_type": "markdown",
      "source": [
        "#### Questão 3\n",
        "Crie um programa que solicite à pessoa usuária digitar seu nome, idade e altura em metros, e imprima “Olá, [nome], você tem [idade] anos e mede [altura] metros!”."
      ],
      "metadata": {
        "id": "2T0jNYZt70aa"
      }
    },
    {
      "cell_type": "code",
      "source": [
        "nome = str (input('Digite seu nome:'))\n",
        "idade = int (input('Digite sua idade:'))\n",
        "altura = str(input('Digite sua altura:'))\n",
        "print(f'ola {nome}, você tem {idade} anos e mede {altura} metros')"
      ],
      "metadata": {
        "id": "pI4kHNzTPIXh"
      },
      "execution_count": null,
      "outputs": []
    },
    {
      "cell_type": "markdown",
      "source": [
        "### Calculadora com operadores"
      ],
      "metadata": {
        "id": "mEBFwKkC70KP"
      }
    },
    {
      "cell_type": "markdown",
      "source": [
        "#### Questão 1\n",
        "\n",
        "Crie um programa que solicite dois valores numéricos à pessoa usuária e imprima a soma dos dois valores."
      ],
      "metadata": {
        "id": "H-IV1oAPPSqK"
      }
    },
    {
      "cell_type": "code",
      "source": [
        "valor1 = int(input('Digite um numero:'))\n",
        "valor2 = int(input('Digite outro numero:'))\n",
        "soma = valor1 + valor2\n",
        "print(f'A soma dos dois valores é {soma}')"
      ],
      "metadata": {
        "id": "Zb0W84sy8rnp"
      },
      "execution_count": null,
      "outputs": []
    },
    {
      "cell_type": "markdown",
      "source": [
        "#### Questão 2\n",
        "Crie um programa que solicite três valores numéricos à pessoa usuária e imprima a soma dos três valores."
      ],
      "metadata": {
        "id": "LUoi2MOu70Em"
      }
    },
    {
      "cell_type": "code",
      "source": [
        "valor1 = int(input('Digite um numero:'))\n",
        "valor2 = int(input('Digite outro numero:'))\n",
        "valor3 = int(input('Digite ultimo numero:'))\n",
        "soma = valor1 + valor2 + valor3\n",
        "print(f'A soma dos três valores é {soma}')"
      ],
      "metadata": {
        "id": "4FYjWyBS8rDm"
      },
      "execution_count": null,
      "outputs": []
    },
    {
      "cell_type": "markdown",
      "source": [
        "#### Questão 3\n",
        "Crie um programa que solicite dois valores numéricos à pessoa usuária e imprima a subtração do primeiro pelo o segundo valor."
      ],
      "metadata": {
        "id": "lezGctF07z8i"
      }
    },
    {
      "cell_type": "code",
      "source": [
        "valor1 = int(input('Digite um numero:'))\n",
        "valor2 = int(input('Digite outro numero:'))\n",
        "subtra = valor1 - valor2\n",
        "print(f'A subtração dos dois valores é {subtra}')"
      ],
      "metadata": {
        "id": "k0GE1z4w8p3J"
      },
      "execution_count": null,
      "outputs": []
    },
    {
      "cell_type": "markdown",
      "source": [
        "#### Questão 4\n",
        "\n",
        "Crie um programa que solicite dois valores numéricos à pessoa usuária e imprima a multiplicação dos dois valores.\n"
      ],
      "metadata": {
        "id": "wwMP-dPU7zxW"
      }
    },
    {
      "cell_type": "code",
      "source": [
        "valor1 = int(input('Digite um numero:'))\n",
        "valor2 = int(input('Digite outro numero:'))\n",
        "mult = valor1 * valor2\n",
        "print(f'A multiplicação dos dois valores é {mult}')"
      ],
      "metadata": {
        "id": "GzFCVHfp8peZ"
      },
      "execution_count": null,
      "outputs": []
    },
    {
      "cell_type": "markdown",
      "source": [
        "#### Questão 5\n",
        "\n",
        "Crie um programa que solicite dois valores numéricos, um numerador e um denominador, e realize a divisão entre os dois valores. Deixe claro que o valor do denominador não pode ser `0`.\n"
      ],
      "metadata": {
        "id": "9kxyHxUo7zRD"
      }
    },
    {
      "cell_type": "code",
      "source": [
        "valor1 = int(input('Digite um numero:'))\n",
        "valor2 = int(input('Digite um denominador: '))\n",
        "while valor2 == 0:\n",
        "    print('O número não pode ser 0. Tente novamente.')\n",
        "    valor1 = int(input('Digite um número: '))\n",
        "print(f'Você digitou {valor2}.')\n",
        "dividir = valor1 / valor2\n",
        "print(f'A divisão dos dois valores é {dividir}')"
      ],
      "metadata": {
        "id": "ytJ8l5KH8ozc"
      },
      "execution_count": null,
      "outputs": []
    },
    {
      "cell_type": "markdown",
      "source": [
        "#### Questão 6\n",
        "\n",
        "Crie um programa que solicite dois valores numéricos, um operador e uma potência, e realize a exponenciação entre esses dois valores.\n"
      ],
      "metadata": {
        "id": "zkUSBTQq8Hxt"
      }
    },
    {
      "cell_type": "code",
      "source": [
        "valor1 = int(input('Digite um numero:'))\n",
        "valor2 = int(input('Digite um expotente:'))\n",
        "potencia = valor1 ** valor2\n",
        "print(f'A exponenciação dos dois valores é {potencia}')"
      ],
      "metadata": {
        "id": "RPj36jq08oZp"
      },
      "execution_count": null,
      "outputs": []
    },
    {
      "cell_type": "markdown",
      "source": [
        "#### Questão 7\n",
        "Crie um programa que solicite dois valores numéricos, um numerador e um denominador e realize a divisão inteira entre os dois valores. Deixe claro que o valor do denominador não pode ser `0`."
      ],
      "metadata": {
        "id": "yiunIusZ8Huj"
      }
    },
    {
      "cell_type": "code",
      "source": [
        "valor1 = int(input('Digite um numerador:'))\n",
        "valor2 = int(input('Digite um denominador: '))\n",
        "while valor2 == 0:\n",
        "    print('O número não pode ser 0. Tente novamente.')\n",
        "    valor2 = int(input('Digite um denominador: '))\n",
        "    print(f'Você digitou {valor2}.')\n",
        "dividir = valor1 // valor2\n",
        "print(f'A divisão inteira dos dois valores é {dividir}')\n"
      ],
      "metadata": {
        "id": "UHK8xITf8oCg"
      },
      "execution_count": null,
      "outputs": []
    },
    {
      "cell_type": "markdown",
      "source": [
        "#### Questão 8\n",
        "\n",
        "Crie um programa que solicite dois valores numéricos, um numerador e um denominador, e retorne o resto da divisão entre os dois valores. Deixe claro que o valor do denominador não pode ser `0`."
      ],
      "metadata": {
        "id": "z_D_JiLX8Hra"
      }
    },
    {
      "cell_type": "code",
      "source": [
        "numerador = int(input('Digite o numerador:'))\n",
        "denominador = int (input('Digite o denominador:'))\n",
        "while denominador == 0:\n",
        "    print('O número não pode ser 0. Tente novamente.')\n",
        "    denominador = int (input('Digite o denominador:'))\n",
        "    print(f'Você digitou {denominador}.')\n",
        "resto = numerador % denominador\n",
        "print (f'O resto da divisão entre os valores é {resto}')"
      ],
      "metadata": {
        "id": "EWGJeukO8nqx"
      },
      "execution_count": null,
      "outputs": []
    },
    {
      "cell_type": "markdown",
      "source": [
        "#### Questão 9\n",
        "\n",
        "Crie um código que solicita 3 notas de um estudante e imprima a média das notas."
      ],
      "metadata": {
        "id": "RDRajNkU8N8N"
      }
    },
    {
      "cell_type": "code",
      "source": [
        "nota1= float(input ('Digite a primeira nota:').replace(',', '.'))\n",
        "nota2= float(input('Digite a segunda nota:').replace(',', '.'))\n",
        "nota3= float(input('Digite a terceira nota:').replace(',', '.'))\n",
        "media= (nota1+nota2+nota3)/3\n",
        "print(f'A média das notas é {media:.2f}')"
      ],
      "metadata": {
        "id": "H6F4Ojzt8nSR"
      },
      "execution_count": null,
      "outputs": []
    },
    {
      "cell_type": "markdown",
      "source": [
        "#### Questão 10\n",
        "\n",
        "Crie um código que calcule e imprima a média ponderada dos números 5, 12, 20 e 15 com pesos respectivamente iguais a 1, 2, 3 e 4."
      ],
      "metadata": {
        "id": "d7fjkne58N21"
      }
    },
    {
      "cell_type": "code",
      "source": [
        "numeros = [5,12 ,20, 15]\n",
        "pesos = [1, 2, 3, 4]\n",
        "soma_ponderada = sum (n * p for n, p in zip(numeros, pesos))\n",
        "soma_pesos = sum(pesos)\n",
        "media_ponderada = soma_ponderada / soma_pesos\n",
        "print(f'A média ponderada é {media_ponderada}')"
      ],
      "metadata": {
        "id": "fwjoHlV48mkv"
      },
      "execution_count": null,
      "outputs": []
    },
    {
      "cell_type": "markdown",
      "source": [
        "### Editando textos"
      ],
      "metadata": {
        "id": "GNmbX1OU8N0V"
      }
    },
    {
      "cell_type": "markdown",
      "source": [
        "#### Questão 1\n",
        "\n",
        "Crie uma variável chamada “`frase`” e atribua a ela uma string de sua escolha. Em seguida, imprima a frase na tela."
      ],
      "metadata": {
        "id": "6wZ85mCsRCV0"
      }
    },
    {
      "cell_type": "code",
      "source": [
        "frase = 'Estou dando o meulhor e posso ir muito mais além!'\n",
        "print(frase)"
      ],
      "metadata": {
        "id": "eRqr_gh-8mFy",
        "colab": {
          "base_uri": "https://localhost:8080/"
        },
        "outputId": "f491923a-1bb9-4807-9163-80dcc4868811"
      },
      "execution_count": null,
      "outputs": [
        {
          "output_type": "stream",
          "name": "stdout",
          "text": [
            "Estou dando o meulhor e posso ir muito mais além!\n"
          ]
        }
      ]
    },
    {
      "cell_type": "markdown",
      "source": [
        "#### Questão 2\n",
        "Crie um código que solicite uma frase e depois imprima a frase na tela."
      ],
      "metadata": {
        "id": "Aac17z-18Nwv"
      }
    },
    {
      "cell_type": "code",
      "source": [
        "frase = print(input('Digite uma frase:'))\n",
        "print(frase)"
      ],
      "metadata": {
        "id": "8zfE2hh98lb0",
        "colab": {
          "base_uri": "https://localhost:8080/"
        },
        "outputId": "a849bf32-3c0d-4d7e-9150-2a186ea61436"
      },
      "execution_count": null,
      "outputs": [
        {
          "output_type": "stream",
          "name": "stdout",
          "text": [
            "Digite uma frase:ola ! bem vindo\n",
            "ola ! bem vindo\n",
            "None\n"
          ]
        }
      ]
    },
    {
      "cell_type": "markdown",
      "source": [
        "#### Questão 3\n",
        "\n",
        "Crie um código que solicite uma frase à pessoa usuária e imprima a mesma frase digitada mas com todas as letras maiúsculas."
      ],
      "metadata": {
        "id": "DXVzqpN58Ntr"
      }
    },
    {
      "cell_type": "code",
      "source": [
        "frase = str(input('Digite uma frase:'))\n",
        "P_frase = frase.upper()\n",
        "print(P_frase)"
      ],
      "metadata": {
        "id": "d0VzoYP68k-I"
      },
      "execution_count": null,
      "outputs": []
    },
    {
      "cell_type": "markdown",
      "source": [
        "#### Questão 4\n",
        "\n",
        "Crie um código que solicite uma frase à pessoa usuária e imprima a mesma frase digitada mas com todas as letras minúsculas."
      ],
      "metadata": {
        "id": "I12VeNPK8Nqb"
      }
    },
    {
      "cell_type": "code",
      "source": [
        "frase = str(input('Digite uma frase:'))\n",
        "p_frase = frase.lower()\n",
        "print(p_frase)"
      ],
      "metadata": {
        "id": "KD8rNy2K8kox"
      },
      "execution_count": null,
      "outputs": []
    },
    {
      "cell_type": "markdown",
      "source": [
        "#### Questão 5\n",
        "\n",
        "Crie uma variável chamada “`frase`” e atribua a ela uma string de sua escolha. Em seguida, imprima a frase sem espaços em branco no início e no fim."
      ],
      "metadata": {
        "id": "cRqngSE48Nog"
      }
    },
    {
      "cell_type": "code",
      "source": [
        "frase = 'Estou muito feliz!'\n",
        "frase_sem_espaço = frase.strip()\n",
        "print (frase_sem_espaço)"
      ],
      "metadata": {
        "id": "aSCpdF-o8kBs"
      },
      "execution_count": null,
      "outputs": []
    },
    {
      "cell_type": "markdown",
      "source": [
        "#### Questão 6\n",
        "\n",
        "Crie um código que solicite uma frase à pessoa usuária e imprima a mesma frase sem espaços em branco no início e no fim."
      ],
      "metadata": {
        "id": "murIazpQ8Nkv"
      }
    },
    {
      "cell_type": "code",
      "source": [
        "import os\n",
        "\n",
        "frase = input('Digite uma frase: ')\n",
        "os.system('clear')\n",
        "frase_sem_espaco = frase.strip()\n",
        "print(f'{frase_sem_espaco}')\n"
      ],
      "metadata": {
        "id": "tHunjwuG8jNq"
      },
      "execution_count": null,
      "outputs": []
    },
    {
      "cell_type": "markdown",
      "source": [
        "#### Questão 7\n",
        "\n",
        "\n",
        "Crie um código que solicite uma frase à pessoa usuária e imprima a mesma frase sem espaços em branco no início e no fim e em letras minúsculas."
      ],
      "metadata": {
        "id": "eRxc2OeX8Nh2"
      }
    },
    {
      "cell_type": "code",
      "source": [
        "frase = input(\"Digite uma frase: \")\n",
        "frase_processada = frase.strip().lower()\n",
        "print(\"Frase processada:\", frase_processada)"
      ],
      "metadata": {
        "id": "DYm0_UwS8ih6"
      },
      "execution_count": null,
      "outputs": []
    },
    {
      "cell_type": "markdown",
      "source": [
        "#### Questão 8\n",
        "\n",
        "Crie um código que solicite uma frase à pessoa usuária e imprima a mesma frase com todas as vogais “`e`” trocadas pela letra “`f`”."
      ],
      "metadata": {
        "id": "UKATLavs8NfI"
      }
    },
    {
      "cell_type": "code",
      "source": [
        "frase = input('Digite uma frase:')\n",
        "frase_modificada = frase.replace('e', 'f').replace('E','F')\n",
        "print(f'{frase_modificada}')"
      ],
      "metadata": {
        "id": "k64C5G5S8iLO"
      },
      "execution_count": null,
      "outputs": []
    },
    {
      "cell_type": "markdown",
      "source": [
        "#### Questão 9\n",
        "\n",
        "\n",
        "Crie um código que solicite uma frase à pessoa usuária e imprima a mesma frase com todas as vogais “`a`” trocadas pela caractere  “`@`”."
      ],
      "metadata": {
        "id": "n_1SPchw8NdG"
      }
    },
    {
      "cell_type": "code",
      "source": [
        "frase = input('Digite uma frase:')\n",
        "frase_modificada = frase.replace('a', '@').replace('A','@')\n",
        "print(f'{frase_modificada}')"
      ],
      "metadata": {
        "id": "msaDNm_p8h0D"
      },
      "execution_count": null,
      "outputs": []
    },
    {
      "cell_type": "markdown",
      "source": [
        "#### Questão 10\n",
        "\n",
        "\n",
        "Crie um código que solicite uma frase à pessoa usuária e imprima a mesma frase com todas as consoantes “`s`” trocadas pelo caractere  “`$`”."
      ],
      "metadata": {
        "id": "H3sTTjqI8Naa"
      }
    },
    {
      "cell_type": "code",
      "source": [
        "frase = input('Digite uma frase:')\n",
        "frase_modificada = frase.replace('s', '$').replace('S','$')\n",
        "print(f'{frase_modificada}')"
      ],
      "metadata": {
        "id": "RPBIsWT68e-1"
      },
      "execution_count": null,
      "outputs": []
    },
    {
      "cell_type": "markdown",
      "source": [
        "## Aula 3 - Estruturas condicionais"
      ],
      "metadata": {
        "id": "XGePe4GD2I59"
      }
    },
    {
      "cell_type": "markdown",
      "source": [
        "### Aquecendo na programação"
      ],
      "metadata": {
        "id": "Pr9HTW0UHCdD"
      }
    },
    {
      "cell_type": "markdown",
      "source": [
        "#### Questão 1\n",
        "Escreva um programa que peça à pessoa usuária para fornecer dois números e exibir o número maior."
      ],
      "metadata": {
        "id": "xBZHqhVg80Fy"
      }
    },
    {
      "cell_type": "code",
      "source": [
        "num1 = float(input('Digite um numero:'))\n",
        "num2 = float(input('Digite outro numero:'))\n",
        "if num1 >num2:\n",
        "    print(f'O numero maior é {num1}')\n",
        "elif num2 >num1:\n",
        "    print(f'O numero maior é {num2}')\n",
        "else:\n",
        "    print('Os numeros são iguais')"
      ],
      "metadata": {
        "id": "GJlGnzjc-xyF"
      },
      "execution_count": null,
      "outputs": []
    },
    {
      "cell_type": "markdown",
      "source": [
        "#### Questão 2\n",
        "Escreva um programa que solicite o percentual de crescimento de produção de uma empresa e informe se houve um crescimento (porcentagem positiva) ou decrescimento (porcentagem negativa)."
      ],
      "metadata": {
        "id": "H4sgN7dyHNJF"
      }
    },
    {
      "cell_type": "code",
      "source": [
        "percentual = float(input('Digite o percentual de crescimento de produção da empresa:'))\n",
        "if percentual >0:\n",
        "    print (f'Houve um crescimento de {percentual:.2f}%.')\n",
        "elif percentual <0:\n",
        "    print(f'Houve um decrescimento de {percentual:.2f}%.')\n",
        "else:\n",
        "    print (\"Não ouve crescimento nem decrescimento na produção\")"
      ],
      "metadata": {
        "id": "-2_Ry5XJ-yZW"
      },
      "execution_count": null,
      "outputs": []
    },
    {
      "cell_type": "markdown",
      "source": [
        "#### Questão 3\n",
        "Escreva um programa que determine se uma letra fornecida pela pessoa usuária é uma vogal ou consoante."
      ],
      "metadata": {
        "id": "a_mzNOBDHNny"
      }
    },
    {
      "cell_type": "code",
      "source": [
        "letra = input('Digite uma letra:').lower()\n",
        "if len(letra) !=1 or not letra.isalpha():\n",
        "    print('Por favor, digite apenas letras.')\n",
        "else:\n",
        "    print ('POr favor, digite uma unica letra válida')\n",
        "    if letra in 'aeiou':\n",
        "        print(f' A letra {letra} é uma vogal.')\n",
        "\n",
        "    else:\n",
        "       print (f' A letra {letra} é uma consoante.')\n"
      ],
      "metadata": {
        "id": "NbgndVyg-zFJ"
      },
      "execution_count": null,
      "outputs": []
    },
    {
      "cell_type": "markdown",
      "source": [
        "#### Questão 4\n",
        "Escreva um programa que leia valores médios de preços de um modelo de carro por 3 anos consecutivos e exiba o valor mais alto e mais baixo entre esses três anos."
      ],
      "metadata": {
        "id": "mofMRjSZHP99"
      }
    },
    {
      "cell_type": "code",
      "source": [
        "ano1 = float(input('Digite o preço médio do carro no primeiro ano:').replace(',','.'))\n",
        "if ano1.replace('.', '').isdigit():\n",
        "        ano1 = float(ano1)\n",
        "    else:\n",
        "        print('A entrada é inválida. Por favor, digite apenas números.')\n",
        "        exit()\n",
        "\n",
        "ano2 = float(input('Digite o preço médio do carro no segundo ano:').replace(',','.'))\n",
        "    if ano2.replace('.', '').isdigit():\n",
        "        ano2 = float(ano2)\n",
        "    else:\n",
        "        print('A entrada é inválida. Por favor, digite apenas números.')\n",
        "        exit()\n",
        "\n",
        "ano3 = float(input('Digite o preço médio do carro no terceiro ano:').replace(',','.'))\n",
        "    if ano3.replace('.', '').isdigit():\n",
        "        ano3 = float(ano3)\n",
        "    else:\n",
        "        print('A entrada é inválida. Por favor, digite apenas números')\n",
        "        exit()\n",
        "\n",
        "              if ano1 < ano2 and ano1 < ano3:\n",
        "              print(f'O preço médio do carro no primeiro ano foi o mais barato: R${ano1:.2f}')\n",
        "              elif ano2 < ano1 and ano2 < ano3:\n",
        "              print(f'O preço médio do carro no segundo ano foi o mais barato: R${ano2:.2f}')\n",
        "              else:\n",
        "                  print ('O preço médio do carro no terceiro ano foi o mais barato: RS{ano3:.2f}')\n"
      ],
      "metadata": {
        "id": "TX--d3k9-02c"
      },
      "execution_count": null,
      "outputs": []
    },
    {
      "cell_type": "markdown",
      "source": [
        "#### Questão 5\n",
        "Escreva um programa que pergunte sobre o preço de três produtos e indique qual é o produto mais barato para comprar."
      ],
      "metadata": {
        "id": "jY5tIwd-HQzc"
      }
    },
    {
      "cell_type": "code",
      "source": [
        "produto1 = input('Digite o preço do primeiro produto: ').replace(',', '.')\n",
        "if produto1.replace('.', '').isdigit():\n",
        "    produto1 = float(produto1)\n",
        "else:\n",
        "    print('A entrada é inválida. Por favor, digite apenas números.')\n",
        "    exit()\n",
        "\n",
        "produto2 = input('Digite o preço do segundo produto: ').replace(',', '.')\n",
        "if produto2.replace('.', '').isdigit():\n",
        "    produto2 = float(produto2)\n",
        "else:\n",
        "    print('A entrada é inválida. Por favor, digite apenas números.')\n",
        "    exit()\n",
        "\n",
        "produto3 = input('Digite o preço do terceiro produto: ').replace(',', '.')\n",
        "if produto3.replace('.', '').isdigit():\n",
        "    produto3 = float(produto3)\n",
        "else:\n",
        "    print('A entrada é inválida. Por favor, digite apenas números.')\n",
        "    exit()\n",
        "\n",
        "if produto1 < produto2 and produto1 < produto3:\n",
        "    print(f'O produto mais barato é o produto 1 que custa R${produto1:.2f}')\n",
        "elif produto2 < produto1 and produto2 < produto3:\n",
        "    print(f'O produto mais barato é o produto 2 que custa R${produto2:.2f}')\n",
        "else:\n",
        "    print(f'O produto mais barato é o produto 3 que custa R${produto3:.2f}')"
      ],
      "metadata": {
        "id": "sYqNh9df-0gk",
        "colab": {
          "base_uri": "https://localhost:8080/",
          "height": 245
        },
        "outputId": "4712be1c-0220-4e1b-999e-38f07e62e134"
      },
      "execution_count": null,
      "outputs": [
        {
          "output_type": "stream",
          "name": "stdout",
          "text": [
            "Digite o preço do primeiro produto: 4\n",
            "Digite o preço do segundo produto: 4\n",
            "Digite o preço do terceiro produto: \n",
            "A entrada é inválida. Por favor, digite apenas números.\n"
          ]
        },
        {
          "output_type": "error",
          "ename": "ValueError",
          "evalue": "Unknown format code 'f' for object of type 'str'",
          "traceback": [
            "\u001b[0;31m---------------------------------------------------------------------------\u001b[0m",
            "\u001b[0;31mValueError\u001b[0m                                Traceback (most recent call last)",
            "\u001b[0;32m<ipython-input-5-84f3a1fd7ef7>\u001b[0m in \u001b[0;36m<cell line: 0>\u001b[0;34m()\u001b[0m\n\u001b[1;32m     25\u001b[0m     \u001b[0mprint\u001b[0m\u001b[0;34m(\u001b[0m\u001b[0;34mf'O produto mais barato é o produto 2 que custa R${produto2:.2f}'\u001b[0m\u001b[0;34m)\u001b[0m\u001b[0;34m\u001b[0m\u001b[0;34m\u001b[0m\u001b[0m\n\u001b[1;32m     26\u001b[0m \u001b[0;32melse\u001b[0m\u001b[0;34m:\u001b[0m\u001b[0;34m\u001b[0m\u001b[0;34m\u001b[0m\u001b[0m\n\u001b[0;32m---> 27\u001b[0;31m     \u001b[0mprint\u001b[0m\u001b[0;34m(\u001b[0m\u001b[0;34mf'O produto mais barato é o produto 3 que custa R${produto3:.2f}'\u001b[0m\u001b[0;34m)\u001b[0m\u001b[0;34m\u001b[0m\u001b[0;34m\u001b[0m\u001b[0m\n\u001b[0m",
            "\u001b[0;31mValueError\u001b[0m: Unknown format code 'f' for object of type 'str'"
          ]
        }
      ]
    },
    {
      "cell_type": "markdown",
      "source": [
        "#### Questão 6\n",
        "Escreva um programa que leia três números e os exiba em ordem decrescente."
      ],
      "metadata": {
        "id": "1r6aVxtTHR4E"
      }
    },
    {
      "cell_type": "code",
      "source": [
        "num1 = float(input('Digite o primeiro número: ').replace(',', '.'))\n",
        "num2 = float(input('Digite o segundo número: ').replace(',', '.'))\n",
        "num3 = float(input('Digite o terceiro número: ').replace(',', '.'))\n",
        "\n",
        "if num1 >= num2 and num1 >= num3:\n",
        "    if num2 >= num3:\n",
        "        print(int(num1), int(num2), int(num3))\n",
        "    else:\n",
        "        print(int(num1), int(num3), int(num2))\n",
        "elif num2 >= num1 and num2 >= num3:\n",
        "    if num1 >= num3:\n",
        "        print(int(num2), int(num1), int(num3))\n",
        "    else:\n",
        "        print(int(num2), int(num3), int(num1))\n",
        "else:\n",
        "    if num1 >= num2:\n",
        "        print(int(num3), int(num1), int(num2))\n",
        "    else:\n",
        "        print(int(num3), int(num2), int(num1))"
      ],
      "metadata": {
        "id": "ydOCYUMO-0Hk"
      },
      "execution_count": null,
      "outputs": []
    },
    {
      "cell_type": "markdown",
      "source": [
        "#### Questão 7\n",
        "Escreva um programa que pergunte em qual turno a pessoa usuária estuda (\"manhã\", \"tarde\" ou \"noite\") e exiba a mensagem \"Bom Dia!\", \"Boa Tarde!\", \"Boa Noite!\", ou \"Valor Inválido!\", conforme o caso."
      ],
      "metadata": {
        "id": "inW3F-hAHS_X"
      }
    },
    {
      "cell_type": "code",
      "source": [
        "pergunta = input('Em qual turno você estuda? Digite \"manhã\", \"tarde\" ou \"noite\": ').lower()\n",
        "\n",
        "if pergunta == 'manhã':\n",
        "    print('Bom dia!')\n",
        "elif pergunta == 'tarde':\n",
        "    print('Boa tarde!')\n",
        "elif pergunta == 'noite':\n",
        "    print('Boa noite!')\n",
        "else:\n",
        "    print('Valor inválido.')\n"
      ],
      "metadata": {
        "id": "-_q-Pcr_-zth"
      },
      "execution_count": null,
      "outputs": []
    },
    {
      "cell_type": "markdown",
      "source": [
        "#### Questão 8\n",
        "Escreva um programa que peça um número inteiro à pessoa usuária e determine se ele é par ou ímpar. Dica: Você pode utilizar o operador módulo `%`."
      ],
      "metadata": {
        "id": "NCCPF3QqHTw-"
      }
    },
    {
      "cell_type": "code",
      "source": [
        "while True:\n",
        "    numero = input('Digite um número inteiro:')\n",
        "\n",
        "    if len(numero) > 0 and numero.isdigit():\n",
        "        numero = int(numero)\n",
        "        if numero == 0:\n",
        "            print('O número é neutro.')\n",
        "        elif numero % 2 == 0:\n",
        "            print(f'O número {numero} é par.')\n",
        "        else:\n",
        "            print(f'O número {numero} é ímpar.')\n",
        "        break  # Encerra o loop se a entrada for válida\n",
        "    else:\n",
        "        print(\"Entrada inválida. Por favor, digite apenas números inteiros.\")"
      ],
      "metadata": {
        "id": "OmZJt1nQ-3e6"
      },
      "execution_count": null,
      "outputs": []
    },
    {
      "cell_type": "markdown",
      "source": [
        "#### Questão 9\n",
        "Escreva um programa que peça um número à pessoa usuária e informe se ele é inteiro ou decimal."
      ],
      "metadata": {
        "id": "h93Ck1tQHUwE"
      }
    },
    {
      "cell_type": "code",
      "source": [
        "qual_numero = input('Digite um número:').replace(',','.')\n",
        "if '.' in qual_numero:\n",
        "    print ('o numero é decimal')\n",
        "else:\n",
        "      print ('O numero é inteiro')"
      ],
      "metadata": {
        "id": "sLMlZcx8-20N"
      },
      "execution_count": null,
      "outputs": []
    },
    {
      "cell_type": "markdown",
      "source": [
        "4### Momento dos projetos"
      ],
      "metadata": {
        "id": "bKdXSK1SH_pF"
      }
    },
    {
      "cell_type": "markdown",
      "source": [
        "#### Questão 10\n",
        "Um programa deve ser escrito para ler dois números e, em seguida, perguntar à pessoa usuária qual operação ele deseja realizar. O resultado da operação deve incluir informações sobre o número - se é par ou ímpar, positivo ou negativo e inteiro ou decimal."
      ],
      "metadata": {
        "id": "WBlEyyzsHV86"
      }
    },
    {
      "cell_type": "code",
      "source": [
        "numero = float(input(\"Digite o primeiro número: \").replace(',', '.'))\n",
        "numero2 = float(input(\"Digite o segundo número: \").replace(',', '.'))\n",
        "\n",
        "print(\"Escolha a operação:\")\n",
        "print(\"1 - Soma (+)\")\n",
        "print(\"2 - Subtração (-)\")\n",
        "print(\"3 - Multiplicação (*)\")\n",
        "print(\"4 - Divisão (/)\")\n",
        "\n",
        "permitidos = [\"1\", \"2\", \"3\", \"4\", \"+\", \"-\", \"*\", \"/\"]\n",
        "\n",
        "while True:\n",
        "    operacao = input(\"Digite o número correspondente à operação (ou o símbolo): \")\n",
        "    if len(operacao) == 1 and operacao in permitidos:\n",
        "        break\n",
        "    else:\n",
        "        print(\"Entrada inválida. Escolha entre 1, 2, 3, 4 ou os símbolos correspondentes (+, -, *, /).\")\n",
        "\n",
        "if operacao in (\"1\", \"+\"):\n",
        "    resultado = numero + numero2\n",
        "    operacao_nome = \"Soma\"\n",
        "elif operacao in (\"2\", \"-\"):\n",
        "    resultado = numero - numero2\n",
        "    operacao_nome = \"Subtração\"\n",
        "elif operacao in (\"3\", \"*\"):\n",
        "    resultado = numero * numero2\n",
        "    operacao_nome = \"Multiplicação\"\n",
        "elif operacao in (\"4\", \"/\"):\n",
        "    if numero2 != 0:\n",
        "        resultado = numero / numero2\n",
        "        operacao_nome = \"Divisão\"\n",
        "    else:\n",
        "        print(\"Erro: Não é possível dividir por zero.\")\n",
        "        exit()\n",
        "\n",
        "def analisar_resultado(valor):\n",
        "    if valor == int(valor):\n",
        "        tipo = \"inteiro\"\n",
        "    else:\n",
        "        tipo = \"decimal\"\n",
        "    if valor == int(valor):\n",
        "        if int(valor) % 2 == 0:\n",
        "            paridade = \"par\"\n",
        "        else:\n",
        "            paridade = \"ímpar\"\n",
        "    else:\n",
        "        paridade = \"não aplicável\"\n",
        "    if valor > 0:\n",
        "        sinal = \"positivo\"\n",
        "    elif valor < 0:\n",
        "        sinal = \"negativo\"\n",
        "    else:\n",
        "        sinal = \"neutro\"\n",
        "    return tipo, paridade, sinal\n",
        "\n",
        "tipo, paridade, sinal = analisar_resultado(resultado)\n",
        "\n",
        "print(f\"\\nResultado da operação ({operacao_nome}): {resultado}\")\n",
        "print(f\"O resultado é {tipo}, {paridade} e {sinal}.\")"
      ],
      "metadata": {
        "id": "3jmahZ0f-2gq"
      },
      "execution_count": null,
      "outputs": []
    },
    {
      "cell_type": "markdown",
      "source": [
        "#### Questão 11\n",
        "Escreva um programa que peça à pessoa usuária três números que representam os lados de um triângulo. O programa deve informar se os valores podem ser utilizados para formar um triângulo e, caso afirmativo, se ele é equilátero, isósceles ou escaleno. Tenha em mente algumas dicas:\n",
        "- Três lados formam um triângulo quando a soma de quaisquer dois lados for maior que o terceiro;\n",
        "- Triângulo Equilátero: três lados iguais;\n",
        "- Triângulo Isósceles: quaisquer dois lados iguais;\n",
        "- Triângulo Escaleno: três lados diferentes;\n"
      ],
      "metadata": {
        "id": "VdnlULxHHW19"
      }
    },
    {
      "cell_type": "code",
      "source": [
        "def classificar_triangulo(a, b, c):\n",
        "    if a + b <= c or a + c <= b or b + c <= a:\n",
        "        return \"Não é um triângulo válido\"\n",
        "    if a == b == c:\n",
        "        return \"Triângulo Equilátero\"\n",
        "    elif a == b or a == c or b == c:\n",
        "        return \"Triângulo Isósceles\"\n",
        "    else:\n",
        "        return \"Triângulo Escaleno\"\n",
        "\n",
        "while True:\n",
        "    try:\n",
        "        a = float(input(\"Digite o lado A: \"))\n",
        "        b = float(input(\"Digite o lado B: \"))\n",
        "        c = float(input(\"Digite o lado C: \"))\n",
        "    except ValueError:\n",
        "        print(\"Por favor, insira valores numéricos válidos.\")\n",
        "        continue\n",
        "    resultado = classificar_triangulo(a, b, c)\n",
        "    print(resultado)\n",
        "    if resultado != \"Não é um triângulo válido\":\n",
        "        break"
      ],
      "metadata": {
        "id": "0z73sqUO-2Pw"
      },
      "execution_count": null,
      "outputs": []
    },
    {
      "cell_type": "markdown",
      "source": [
        "#### Questão 12\n",
        "Um estabelecimento está vendendo combustíveis com descontos variados. Para o etanol, se a quantidade comprada for até 15 litros, o desconto será de 2% por litro. Caso contrário, será de 4% por litro. Para o diesel, se a quantidade comprada for até 15 litros, o desconto será de 3% por litro. Caso contrário, será de 5% por litro. O preço do litro de diesel é R\\$ 2,00 e o preço do litro de etanol é R\\$ 1,70. Escreva um programa que leia a quantidade de litros vendidos e o tipo de combustível (E para etanol e D para diesel) e calcule o valor a ser pago pelo cliente. Tenha em mente algumas dicas:\n",
        "\n",
        "- O do valor do desconto será a multiplicação entre preço do litro, quantidade de litros e o valor do desconto.\n",
        "- O valor a ser pago por um cliente será o resultado da multiplicação do preço do litro pela quantidade de litros menos o valor de desconto resultante do cálculo.\n"
      ],
      "metadata": {
        "id": "_PpEpOugHXwZ"
      }
    },
    {
      "cell_type": "code",
      "source": [
        "while True:\n",
        "    try:\n",
        "        tipo_combustivel = input(\"Digite o tipo de combustível (E para etanol ou D para diesel): \").upper()\n",
        "        if tipo_combustivel not in ['E', 'D']:\n",
        "            print(\"Tipo de combustível inválido. Digite 'E' para etanol ou 'D' para diesel.\")\n",
        "            continue\n",
        "\n",
        "        litros = input(\"Digite a quantidade de litros vendidos: \").replace(',', '.')\n",
        "        if len(litros) > 0 and litros.replace('.', '', 1).isdigit():\n",
        "            litros = float(litros)\n",
        "            if litros <= 0:\n",
        "                print(\"Por favor, insira uma quantidade válida de litros.\")\n",
        "                continue\n",
        "        else:\n",
        "            print(\"Entrada inválida. Por favor, insira apenas números.\")\n",
        "            continue\n",
        "\n",
        "        if tipo_combustivel == 'E':  # Etanol\n",
        "            preco_por_litro = 1.70\n",
        "            if litros <= 15:\n",
        "                desconto = 0.02\n",
        "            else:\n",
        "                desconto = 0.04\n",
        "\n",
        "        elif tipo_combustivel == 'D':  # Diesel\n",
        "            preco_por_litro = 2.00\n",
        "            if litros <= 15:\n",
        "                desconto = 0.03\n",
        "            else:\n",
        "                desconto = 0.05\n",
        "\n",
        "        valor_bruto = litros * preco_por_litro\n",
        "        valor_desconto = valor_bruto * desconto\n",
        "        valor_final = valor_bruto - valor_desconto\n",
        "\n",
        "        print(f\"\\nResumo da compra:\")\n",
        "        print(f\"Tipo de combustível: {'Etanol' if tipo_combustivel == 'E' else 'Diesel'}\")\n",
        "        print(f\"Quantidade de litros: {litros:.2f}\")\n",
        "        print(f\"Desconto aplicado: {desconto * 100}%\")\n",
        "        print(f\"Valor bruto: R$ {valor_bruto:.2f}\")\n",
        "        print(f\"Desconto: R$ {valor_desconto:.2f}\")\n",
        "        print(f\"Valor a pagar: R$ {valor_final:.2f}\")\n",
        "        break\n",
        "    except ValueError:\n",
        "        print(\"Entrada inválida. Por favor, insira valores numéricos corretamente.\")"
      ],
      "metadata": {
        "id": "9izoF-0O-1yD"
      },
      "execution_count": null,
      "outputs": []
    },
    {
      "cell_type": "markdown",
      "source": [
        "#### Questão 13\n",
        "Em uma empresa de venda de imóveis você precisa criar um código que analise os dados de vendas anuais para ajudar a diretoria na tomada de decisão. O código precisa coletar os dados de quantidade de venda durante os anos de 2022 e 2023 e fazer um cálculo de variação percentual. A partir do valor da variação, deve ser enviada às seguintes sugestões:\n",
        "- Para variação acima de 20%: bonificação para o time de vendas.\n",
        "- Para variação entre 2% e 20%: pequena bonificação para time de vendas.\n",
        "- Para variação entre 2% e -10%: planejamento de políticas de incentivo às vendas.\n",
        "- Para bonificações abaixo de -10%: corte de gastos.\n"
      ],
      "metadata": {
        "id": "s_XS_D1WHY2R"
      }
    },
    {
      "cell_type": "code",
      "source": [
        "while True:\n",
        "    try:\n",
        "        quantidade_de_vendas_2022 = float(input(\"Digite a quantidade de vendas em 2022: \").replace(\",\", \".\"))\n",
        "        quantidade_de_vendas_2023 = float(input(\"Digite a quantidade de vendas em 2023: \").replace(\",\", \".\"))\n",
        "        break\n",
        "    except ValueError:\n",
        "        print(\"A entrada é inválida. Por favor, digite apenas números.\")\n",
        "\n",
        "if quantidade_de_vendas_2022 > 0 and quantidade_de_vendas_2023 > 0:\n",
        "    variacao_percentual = ((quantidade_de_vendas_2023 - quantidade_de_vendas_2022) / quantidade_de_vendas_2022) * 100\n",
        "    print(f\"Variação percentual: {variacao_percentual:.2f}%\")\n",
        "\n",
        "    if variacao_percentual > 20:\n",
        "        print(\"Bonificação para o time de vendas.\")\n",
        "    elif 2 <= variacao_percentual <= 20:\n",
        "        print(\"Pequena bonificação para o time de vendas.\")\n",
        "    elif -10 <= variacao_percentual < 2:\n",
        "        print(\"Planejamento de políticas de incentivo às vendas.\")\n",
        "else:\n",
        "    print(\"As vendas devem ser maiores que zero para calcular a variação percentual.\")"
      ],
      "metadata": {
        "id": "avQrYlUg-w8f"
      },
      "execution_count": null,
      "outputs": []
    },
    {
      "cell_type": "markdown",
      "source": [
        "## Aula 4 - Estruturas de repetição"
      ],
      "metadata": {
        "id": "AuaWh4-d2Itt"
      }
    },
    {
      "cell_type": "markdown",
      "source": [
        "### Aquecendo na programação"
      ],
      "metadata": {
        "id": "6MSqU0sIJRdD"
      }
    },
    {
      "cell_type": "markdown",
      "source": [
        "#### Questão 1\n",
        "Escreva um programa que peça dois números inteiros e imprima todos os números inteiros entre eles."
      ],
      "metadata": {
        "id": "9eGGyCnAJRdQ"
      }
    },
    {
      "cell_type": "code",
      "source": [
        "while True:\n",
        "    try:\n",
        "        numero = int(input(\"Digite um número: \"))\n",
        "        numero2 = int(input(\"Digite outro número: \"))\n",
        "        break\n",
        "    except ValueError:\n",
        "        print(\"A entrada é inválida. Por favor, digite apenas números.\")\n",
        "\n",
        "if numero != numero2:\n",
        "    if numero < numero2:\n",
        "        for i in range(numero + 1, numero2):\n",
        "            print(i)\n",
        "    else:\n",
        "        for i in range(numero2 + 1, numero):\n",
        "            print(i)\n",
        "else:\n",
        "    print(\"Os números são iguais. Nenhum intervalo será exibido.\")"
      ],
      "metadata": {
        "id": "ID1oc1hxJRdQ"
      },
      "execution_count": null,
      "outputs": []
    },
    {
      "cell_type": "markdown",
      "source": [
        "#### Questão 2\n",
        "Escreva um programa para calcular quantos dias levará para a colônia de uma bactéria A ultrapassar ou igualar a colônia de uma bactéria B, com base nas taxas de crescimento de 3% e 1,5% respectivamente. Considere que a colônia A inicia com 4 elementos e a colônia B com 10 elementos."
      ],
      "metadata": {
        "id": "mGonEHYCJRdR"
      }
    },
    {
      "cell_type": "code",
      "source": [
        "col_A = 4\n",
        "col_B = 10\n",
        "taxa_A = 0.03\n",
        "taxa_B = 0.15\n",
        "dias = 0\n",
        "while col_A < col_B:\n",
        "    col_A += col_A * taxa_A\n",
        "    col_B += col_B * taxa_B\n",
        "    dias += 1\n",
        "print(f\"Serão necessários {dias} dias para a colônia A ultrapassar ou igualar a colônia B.\")\n"
      ],
      "metadata": {
        "id": "wM6FJuoqJRdR"
      },
      "execution_count": null,
      "outputs": []
    },
    {
      "cell_type": "markdown",
      "source": [
        "#### Questão 3\n",
        "Para tratar uma quantidade de 15 dados de avaliações de pessoas usuárias de um serviço da empresa, precisamos verificar se as notas são válidas. Então, escreva um programa que vai receber a nota de 0 a 5 de todos os dados e verificar se é um valor válido. Caso seja inserido uma nota acima de 5 ou abaixo de 0, repita até que a pessoa usuária insira um valor válido."
      ],
      "metadata": {
        "id": "UiOZRlqoJRdR"
      }
    },
    {
      "cell_type": "code",
      "source": [
        "notas = []\n",
        "\n",
        "for i in range(15):\n",
        "    while True:\n",
        "        try:\n",
        "            nota = input(f\"Digite a nota entre 0 e 5: \").replace(\",\", \".\")\n",
        "            nota = float(nota)\n",
        "            if 0 <= nota <= 5:\n",
        "                notas.append(nota)\n",
        "                break\n",
        "            else:\n",
        "                print(\"A nota deve estar entre 0 e 5. Por favor, tente novamente.\")\n",
        "        except ValueError:\n",
        "            print(\"A entrada é inválida. Por favor, digite apenas números.\")\n",
        "\n",
        "print(\"\\nAs notas válidas inseridas foram:\")\n",
        "for i, nota in enumerate(notas, start=1):\n",
        "    print(f\"Nota {i}: {nota:.2f}\")"
      ],
      "metadata": {
        "id": "3TUAhCxcJRdR"
      },
      "execution_count": null,
      "outputs": []
    },
    {
      "cell_type": "markdown",
      "source": [
        "#### Questão 4\n",
        "Desenvolva um programa que leia um conjunto indeterminado de temperaturas em Celsius e faça uma análise. Portanto, escreva um programa que leia temperaturas e informe a média delas. A leitura deve ser encerrada ao ser enviado o valor -273°C."
      ],
      "metadata": {
        "id": "ABv3KObGJRdR"
      }
    },
    {
      "cell_type": "code",
      "source": [
        "temperaturas = []\n",
        "\n",
        "print(\"Digite as temperaturas em Celsius (uma de cada vez). Para encerrar, insira -273.\")\n",
        "\n",
        "while True:\n",
        "    try:\n",
        "        temp = float(input(\"Digite uma temperatura: \"))\n",
        "        if temp == -273:\n",
        "            break\n",
        "        temperaturas.append(temp)\n",
        "    except ValueError:\n",
        "        print(\"Entrada inválida. Por favor, insira um número válido.\")\n",
        "\n",
        "if temperaturas:\n",
        "    media = sum(temperaturas) / len(temperaturas)\n",
        "    print(f\"\\nA média das temperaturas digitadas é: {media:.2f}°C\")\n",
        "else:\n",
        "    print(\"\\nNenhuma temperatura foi inserida.\")"
      ],
      "metadata": {
        "id": "85tBBj5KJRdS"
      },
      "execution_count": null,
      "outputs": []
    },
    {
      "cell_type": "markdown",
      "source": [
        "#### Questão 5\n",
        "Escreva um programa que calcule o fatorial de um número inteiro fornecido pela pessoa usuária. O fatorial de um número inteiro é a multiplicação desse número por todos os seus antecessores até o número 1. Por exemplo, o fatorial de 5 é 5 x 4 x 3 x 2 x 1 = 120."
      ],
      "metadata": {
        "id": "IjkbAfGcJRdS"
      }
    },
    {
      "cell_type": "code",
      "source": [
        "while True:\n",
        "    try:\n",
        "        numero = int(input('Digite um número para calcularmos o fatorial: '))\n",
        "        if numero >= 0:\n",
        "            break\n",
        "        else:\n",
        "            print(\"O número deve ser maior ou igual a zero.\")\n",
        "    except ValueError:\n",
        "        print(\"Entrada inválida. Por favor, insira um número inteiro.\")\n",
        "\n",
        "fatorial = 1\n",
        "for i in range(numero, 0, -1):\n",
        "    fatorial *= i\n",
        "\n",
        "print(f'O fatorial de {numero} é {fatorial}')"
      ],
      "metadata": {
        "id": "7RTH8o0HJRdS"
      },
      "execution_count": null,
      "outputs": []
    },
    {
      "cell_type": "markdown",
      "source": [
        "### Momento dos projetos"
      ],
      "metadata": {
        "id": "oGNKuQjsJRdT"
      }
    },
    {
      "cell_type": "markdown",
      "source": [
        "#### Questão 6\n",
        "Escreva um programa que gere a tabuada de um número inteiro de 1 a 10, de acordo com a escolha da pessoa usuária. Como exemplo, para o número 2, a tabuada deve ser mostrada no seguinte formato:\n",
        "```\n",
        "Tabuada do 2:\n",
        "2 x 1 = 2\n",
        "2 x 2 = 4\n",
        "[...]\n",
        "2 x 10 = 20\n",
        "```"
      ],
      "metadata": {
        "id": "ODxaTUYmJRdS"
      }
    },
    {
      "cell_type": "code",
      "source": [
        "while True:\n",
        "    try:\n",
        "        numero = int(input('Digite um número de 1 a 10 para gerarmos a tabuada: '))\n",
        "        if 1 <= numero <= 10:\n",
        "            break\n",
        "        else:\n",
        "            print('O número deve estar entre 1 e 10.')\n",
        "    except ValueError:\n",
        "        print('A entrada é inválida. Por favor, insira um número inteiro.')\n",
        "\n",
        "print(f'Aqui está a tabuada do {numero}:')\n",
        "for i in range(1, 11):\n",
        "    resultado = numero * i\n",
        "    print(f'{numero} x {i} = {resultado}')"
      ],
      "metadata": {
        "id": "lkTlbxPIJRdS"
      },
      "execution_count": null,
      "outputs": []
    },
    {
      "cell_type": "markdown",
      "source": [
        "#### Questão 7\n",
        "Os números primos possuem várias aplicações dentro da Ciência de Dados, por exemplo, na criptografia e segurança. Um número primo é aquele que é divisível apenas por um e por ele mesmo. Faça um programa que peça um número inteiro e determine se ele é ou não um número primo."
      ],
      "metadata": {
        "id": "LeIbnt8VJRdS"
      }
    },
    {
      "cell_type": "code",
      "source": [
        "while True:\n",
        "    try:\n",
        "        numero_primo = int(input('Digite um número inteiro: '))\n",
        "        break\n",
        "    except ValueError:\n",
        "        print('A entrada é inválida. Por favor, insira um número inteiro.')\n",
        "\n",
        "if numero_primo <= 1:\n",
        "    print('O número deve ser maior que 1.')\n",
        "else:\n",
        "    for i in range(2, numero_primo):\n",
        "        if numero_primo % i == 0:\n",
        "            print('O número não é primo.')\n",
        "            break\n",
        "    else:\n",
        "        print('O número é primo.')"
      ],
      "metadata": {
        "id": "2rcNU7twJRdS"
      },
      "execution_count": null,
      "outputs": []
    },
    {
      "cell_type": "markdown",
      "source": [
        "18722324#### Questão 8\n",
        "Vamos entender a distribuição de idades de pensionistas de uma empresa de previdência. Escreva um programa que leia as idades de uma quantidade não informada de clientes e mostre a distribuição em intervalos de [0-25], [26-50], [51-75] e [76-100]. Encerre a entrada de dados com um número negativo."
      ],
      "metadata": {
        "id": "QTwb6QaCJRdT"
      }
    },
    {
      "cell_type": "code",
      "source": [],
      "metadata": {
        "id": "4IAhaDmYJRdT"
      },
      "execution_count": null,
      "outputs": []
    },
    {
      "cell_type": "markdown",
      "source": [
        "#### Questão 9\n",
        "Em uma eleição para gerência em uma empresa com 20 funcionários, existem quatro candidatos. Escreva um programa que calcule o vencedor da eleição. A votação ocorreu da seguinte maneira:\n",
        "- Cada funcionário votou em um dos quatro candidatos (representados pelos números 1, 2, 3 e 4).\n",
        "- Também foram contabilizados os votos nulos (representado pelo número 5) e os votos em branco (representado pelo número 6).\n",
        "\n",
        "Ao final da votação, o programa deve exibir o total de votos para cada candidato, o número de votos nulos e o número de votos em branco. Além disso, deve calcular e exibir a porcentagem de votos nulos em relação ao total de votos e a porcentagem de votos em branco em relação ao total de votos."
      ],
      "metadata": {
        "id": "soJCQVwRJRdT"
      }
    },
    {
      "cell_type": "code",
      "source": [
        "eleicao = []\n",
        "candidato1 = 0\n",
        "candidato2 = 0\n",
        "candidato3 = 0\n",
        "candidato4 = 0\n",
        "nulo = 0\n",
        "branco = 0\n",
        "\n",
        "print(\"Opções para o1111 voto:\")\n",
        "print(\"1 - Candidato 1\")\n",
        "print(\"2 - Candidato 2\")\n",
        "print(\"3 - Candidato 3\")\n",
        "print(\"4 - Candidato 4\")\n",
        "print(\"5 - Nulo\")\n",
        "print(\"6 - Branco\\n\")\n",
        "\n",
        "for i in range(1, 21):\n",
        "    while True:\n",
        "        try:\n",
        "            voto = int(input('Digite o número do candidato escolhido: '))\n",
        "            if voto in [1, 2, 3, 4, 5, 6]:\n",
        "                eleicao.append(voto)\n",
        "                break\n",
        "            else:\n",
        "                print('Número inválido! Digite um número de 1 a 6.')\n",
        "        except ValueError:\n",
        "            print('A entrada é inválida. Por favor, insira um número inteiro.')\n",
        "\n",
        "for voto in eleicao:\n",
        "    if voto == 1:\n",
        "        candidato1 += 1\n",
        "    elif voto == 2:\n",
        "        candidato2 += 1\n",
        "    elif voto == 3:\n",
        "        candidato3 += 1\n",
        "    elif voto == 4:\n",
        "        candidato4 += 1\n",
        "    elif voto == 5:\n",
        "        nulo += 1\n",
        "    elif voto == 6:\n",
        "        branco += 1\n",
        "\n",
        "print(\"\\nResultados da votação:\")\n",
        "print(f\"Candidato 1 recebeu {candidato1} votos.\")\n",
        "print(f\"Candidato 2 recebeu {candidato2} votos.\")\n",
        "print(f\"Candidato 3 recebeu {candidato3} votos.\")\n",
        "print(f\"Candidato 4 recebeu {candidato4} votos.\")\n",
        "print(f\"Votos nulos: {nulo}\")\n",
        "print(f\"Votos em branco: {branco}\")\n",
        "\n",
        "total_votos = len(eleicao)\n",
        "percentual_nulo = (nulo / total_votos) * 100\n",
        "percentual_branco = (branco / total_votos) * 100\n",
        "\n",
        "print(f\"\\nPorcentagem de votos nulos: {percentual_nulo:.2f}%\")\n",
        "print(f\"Porcentagem de votos em branco: {percentual_branco:.2f}%\")"
      ],
      "metadata": {
        "id": "041EFrgG-4gR"
      },
      "execution_count": null,
      "outputs": []
    },
    {
      "cell_type": "markdown",
      "source": [
        "## Aula 5 - Estruturas de dados"
      ],
      "metadata": {
        "id": "eijHQiNU2IZ7"
      }
    },
    {
      "cell_type": "markdown",
      "source": [
        "### Aquecendo na programação"
      ],
      "metadata": {
        "id": "92F0bKtBMgd7"
      }
    },
    {
      "cell_type": "markdown",
      "source": [
        "#### Questão 1\n",
        "Faça um programa que tenha a seguinte lista contendo os valores de gastos de uma empresa de papel `[2172.54, 3701.35, 3518.09, 3456.61, 3249.38, 2840.82, 3891.45, 3075.26, 2317.64, 3219.08]`. Com esses valores, faça um programa que calcule a média de gastos. Dica, use as funções built-in [`sum()`](https://docs.python.org/3/library/functions.html#sum) e [`len()`](https://docs.python.org/3/library/functions.html#len)."
      ],
      "metadata": {
        "id": "IypX2ANuMgeC"
      }
    },
    {
      "cell_type": "code",
      "source": [
        "gastos =[2172.54, 3701.35, 3518.09, 3456.61, 3249.38, 2840.82, 3891.45, 3075.26, 2317.64, 3219.08]\n",
        "media = sum(gastos) / len(gastos)\n",
        "print(f'A média de gastos da empresa é: {media}')\n"
      ],
      "metadata": {
        "id": "ge3LuFhLMgeD"
      },
      "execution_count": null,
      "outputs": []
    },
    {
      "cell_type": "markdown",
      "source": [
        "#### Questão 2\n",
        " Com os mesmos dados da questão anterior, defina quantas compras foram acima de 3000 reais e calcule a porcentagem quanto ao total de compras."
      ],
      "metadata": {
        "id": "xrOeLhQkMgeD"
      }
    },
    {
      "cell_type": "code",
      "source": [
        "gastos = [2172.54, 3701.35, 3518.09, 3456.61, 3249.38, 2840.82, 3891.45, 3075.26, 2317.64, 3219.08]\n",
        "\n",
        "gastos_acima = []\n",
        "\n",
        "for gasto in gastos:\n",
        "    if gasto > 3000:\n",
        "        gastos_acima.append(gasto)\n",
        "\n",
        "if len(gastos_acima) > 0:\n",
        "    media = sum(gastos_acima) / len(gastos_acima)\n",
        "    print(f'A média de gastos da empresa acima de 3000 é: {media:.2f}')\n",
        "else:\n",
        "    print('Não há gastos acima de 3000.')"
      ],
      "metadata": {
        "id": "Ygu5TMZyMgeD"
      },
      "execution_count": null,
      "outputs": []
    },
    {
      "cell_type": "markdown",
      "source": [
        "#### Questão 3\n",
        "Faça um código que colete em uma lista 5 números inteiros quaisquer e imprima a lista. Exemplo: `[1,4,7,2,4]`."
      ],
      "metadata": {
        "id": "JgCOrE_BMgeD"
      }
    },
    {
      "cell_type": "code",
      "source": [
        "lista = []\n",
        "for i in range(5):\n",
        "    while True:\n",
        "        try:\n",
        "            numero = int(input(f'Digite o {i + 1}º número inteiro: '))\n",
        "            lista.append(numero)\n",
        "            break\n",
        "        except ValueError:\n",
        "            print('A entrada é inválida. Por favor, insira um número inteiro.')\n",
        "print(f'A lista criada é: {lista}')"
      ],
      "metadata": {
        "id": "vtM9O1hLMgeD"
      },
      "execution_count": null,
      "outputs": []
    },
    {
      "cell_type": "markdown",
      "source": [
        "#### Questão 4\n",
        "Colete novamente 5 inteiros e imprima a lista em ordem inversa à enviada."
      ],
      "metadata": {
        "id": "p3bTp88HMgeD"
      }
    },
    {
      "cell_type": "code",
      "source": [
        "8lista = []\n",
        "\n",
        "for i in range(5):\n",
        "    while True:\n",
        "        try:\n",
        "            numero = int(input(f'Digite o {i + 1}º número inteiro: '))\n",
        "            lista.append(numero)\n",
        "            break\n",
        "        except ValueError:\n",
        "            print('A entrada é inválida. Por favor, insira um número inteiro.')\n",
        "lista.sort(reverse=True)\n",
        "print(f'A lista criada é: {lista}')"
      ],
      "metadata": {
        "id": "-CGwMIyHMgeD"
      },
      "execution_count": null,
      "outputs": []
    },
    {
      "cell_type": "markdown",
      "source": [
        "#### Questão 5\n",
        "Faça um programa que, ao inserir um número qualquer, criará uma lista contendo todos os números primos entre 1 e o número digitado."
      ],
      "metadata": {
        "id": "eIXd_z1lMgeD"
      }
    },
    {
      "cell_type": "code",
      "source": [
        "lista = []\n",
        "\n",
        "while True:\n",
        "    try:\n",
        "        numero = int(input('Digite um número inteiro: '))\n",
        "        if numero < 2:\n",
        "            print('Por favor, insira um número maior ou igual a 2.')\n",
        "            continue\n",
        "        break\n",
        "    except ValueError:\n",
        "        print('A entrada é inválida. Por favor, insira um número inteiro.')\n",
        "\n",
        "for i in range(2, numero + 1):\n",
        "    for divisor in range(2, i):\n",
        "        if i % divisor == 0:\n",
        "            break\n",
        "    else:\n",
        "        lista.append(i)\n",
        "\n",
        "print(f\"Os números primos entre 2 e {numero} são: {lista}\")"
      ],
      "metadata": {
        "id": "rj_6GHstMgeE"
      },
      "execution_count": null,
      "outputs": []
    },
    {
      "cell_type": "markdown",
      "source": [
        "#### Questão 6\n",
        "Escreva um programa que peça uma data informando o dia, mês e ano e determine se ela é uma data válida para uma análise."
      ],
      "metadata": {
        "id": "zrbz3ENlMgeE"
      }
    },
    {
      "cell_type": "code",
      "source": [
        "def validar_data(data):\n",
        "    meses_dias = [31, 28, 31, 30, 31, 30, 31, 31, 30, 31, 30, 31]\n",
        "\n",
        "    try:\n",
        "        dia, mes, ano = map(int, data.split('/'))\n",
        "    except ValueError:\n",
        "        return False\n",
        "\n",
        "    if ano < 1900 or ano > 2025:\n",
        "        return False\n",
        "\n",
        "    if mes < 1 or mes > 12:\n",
        "        return False\n",
        "\n",
        "    if mes == 2 and ano % 4 == 0 and (ano % 100 != 0 or ano % 400 == 0):\n",
        "        meses_dias[1] = 29\n",
        "\n",
        "    if dia < 1 or dia > meses_dias[mes - 1]:\n",
        "        return False\n",
        "\n",
        "    return True\n",
        "\n",
        "while True:\n",
        "    data = input('Digite uma data no formato dd/mm/aaaa: ').strip()\n",
        "    if not data:\n",
        "        print('Por favor, digite uma data válida.')\n",
        "        continue\n",
        "\n",
        "    if validar_data(data):\n",
        "        dia, mes, ano = map(int, data.split('/'))\n",
        "        print(f'A data digitada é válida: {dia:02}/{mes:02}/{ano}')\n",
        "        break\n",
        "    else:\n",
        "        print('A data digitada é inválida. Tente novamente.')"
      ],
      "metadata": {
        "id": "0eYA8UjTMgeE"
      },
      "execution_count": null,
      "outputs": []
    },
    {
      "cell_type": "markdown",
      "source": [
        "\n",
        "### Momento dos projetos"
      ],
      "metadata": {
        "id": "ut_4VHdGMgeE"
      }
    },
    {
      "cell_type": "markdown",
      "source": [
        "#### Questão 7\n",
        "Para um estudo envolvendo o nível de multiplicação de bactérias em uma colônia, foi coletado o número de bactérias multiplicadas por dia, com base em um processo de duplicação diária e pode ser observado a seguir: `[1.2, 2.1, 3.3, 5.0, 7.8, 11.3, 16.6, 25.1, 37.8, 56.9]`. Tendo esses valores, faça um código que gere uma lista contendo o percentual de crescimento de bactérias por dia, comparando o número de bactérias em cada dia com o número de bactérias do dia anterior. Dica: para calcular o percentual de crescimento usamos a seguinte equação: `100 * (amostra_atual - amostra_passada) / (amostra_passada)`."
      ],
      "metadata": {
        "id": "G86Z0vD_MgeE"
      }
    },
    {
      "cell_type": "code",
      "source": [
        "import matplotlib.pyplot as plt\n",
        "\n",
        "def calcular_percentual_crescimento(amostras):\n",
        "    percentual_crescimento = []\n",
        "    for i in range(1, len(amostras)):\n",
        "        crescimento_percentual = 100 * (amostras[i] - amostras[i - 1]) / amostras[i - 1]\n",
        "        percentual_crescimento.append(crescimento_percentual)\n",
        "    return percentual_crescimento\n",
        "\n",
        "amostras = [1.2, 2.1, 3.3, 5.0, 7.8, 11.3, 16.6, 25.1, 37.8, 56.9]\n",
        "percentual_crescimento = calcular_percentual_crescimento(amostras)\n",
        "dias = list(range(2, len(amostras) + 1))\n",
        "\n",
        "\n",
        "plt.figure(figsize=(5, 2))\n",
        "plt.plot(dias, percentual_crescimento, marker='o', linestyle='-', color='b')\n",
        "plt.title('Percentual de Crescimento Diário das Bactérias', fontsize=12)\n",
        "plt.xlabel('Dia', fontsize=12)\n",
        "plt.ylabel('Percentual de Crescimento (%)', fontsize=7)\n",
        "plt.grid(False)\n",
        "plt.xticks(dias)\n",
        "plt.tight_layout()\n",
        "\n",
        "plt.show()\n",
        "print('\\n* Gráfico 1: crescimento da bactéria por dia.')"
      ],
      "metadata": {
        "id": "PXNO_CFkMgeE"
      },
      "execution_count": null,
      "outputs": []
    },
    {
      "cell_type": "markdown",
      "source": [
        "#### Questão 8\n",
        "Para uma seleção de produtos alimentícios, precisamos separar o conjunto de IDs dados por números inteiros, sabendo que os produtos com ID par são doces e os com ID ímpar são amargos. Monte um código que colete 10 IDs. Depois, calcule e mostre a quantidade de produtos doces e amargos."
      ],
      "metadata": {
        "id": "p4nxogpnMgeE"
      }
    },
    {
      "cell_type": "code",
      "source": [
        "def classificar_produtos():\n",
        "    doces = 0\n",
        "    amargos = 0\n",
        "\n",
        "    print(\"Digite 10 IDs dos produtos alimentícios:\")\n",
        "\n",
        "    for i in range(10):\n",
        "        id_produto = int(input(f\"ID {i + 1}: \"))\n",
        "\n",
        "        if id_produto % 2 == 0:\n",
        "            doces += 1\n",
        "        else:\n",
        "            amargos += 1\n",
        "\n",
        "    print(\"\\nResultado:\")\n",
        "    print(f\"Produtos doces: {doces}\")\n",
        "    print(f\"Produtos amargos: {amargos}\")\n",
        "\n",
        "# Executar a classificação\n",
        "classificar_produtos()"
      ],
      "metadata": {
        "id": "WqjO2SZkMgeE"
      },
      "execution_count": null,
      "outputs": []
    },
    {
      "cell_type": "markdown",
      "source": [
        "#### Questão 9\n",
        "Desenvolva um programa que informa a nota de um aluno de acordo com suas respostas. Ele deve pedir a resposta de um aluno para cada questão e é preciso verificar se a resposta foi igual ao gabarito. Cada questão vale um ponto e existem alternativas:  A, B, C ou D.\n",
        "```\n",
        "Gabarito da Prova:\n",
        "01 - D\n",
        "02 - A\n",
        "03 - C\n",
        "04 - B\n",
        "05 - A\n",
        "06 - D\n",
        "07 - C\n",
        "08 - C\n",
        "09 - A\n",
        "10 - B\n",
        "```"
      ],
      "metadata": {
        "id": "t5OrLxV6MgeE"
      }
    },
    {
      "cell_type": "code",
      "source": [
        "44aaaaaaa\n",
        "def verificar_respostas():\n",
        "    gabarito = ['D', 'A', 'C', 'B', 'A', 'D', 'C', 'C', 'A', 'B']\n",
        "    respostas = []\n",
        "    nota = 0\n",
        "\n",
        "    print(\"Responda as 10 questões com as alternativas: A, B, C ou D.\")\n",
        "\n",
        "    for i in range(10):\n",
        "        while True:\n",
        "            resposta = input(f\"Questão {i + 1}: \").strip().upper()\n",
        "            if resposta in ['A', 'B', 'C', 'D']:\n",
        "                respostas.append(resposta)\n",
        "                if resposta == gabarito[i]:\n",
        "                    nota += 1\n",
        "                break\n",
        "            else:\n",
        "                print(\"Resposta inválida! Escolha entre A, B, C ou D.\")\n",
        "\n",
        "    print(\"\\nResultado:\")\n",
        "    print(f\"Suas respostas: {respostas}\")\n",
        "    print(f\"Sua nota final: {nota} pontos.\")\n",
        "\n",
        "# Executar o programa\n",
        "verificar_respostas()"
      ],
      "metadata": {
        "id": "ytIQDJrQMgeE"
      },
      "execution_count": null,
      "outputs": []
    },
    {
      "cell_type": "markdown",
      "source": [
        "#### Questão 10\n",
        "Um instituto de meteorologia deseja fazer um estudo de temperatura média de cada mês do ano. Para isso, você precisa fazer um código que colete e armazene essas temperaturas médias em uma lista. Depois, calcule a média anual das temperaturas e mostre todas as temperaturas acima da média anual, e em que mês elas ocorreram, mostrando os meses por extenso: Janeiro, Fevereiro, etc."
      ],
      "metadata": {
        "id": "aSBMzh-AMgeF"
      }
    },
    {
      "cell_type": "code",
      "source": [
        "import seaborn as sns\n",
        "import matplotlib.pyplot as plt\n",
        "import pandas as pd\n",
        "\n",
        "def estudo_temperatura():\n",
        "    meses = ['Janeiro', 'Fevereiro', 'Março', 'Abril', 'Maio', 'Junho',\n",
        "             'Julho', 'Agosto', 'Setembro', 'Outubro', 'Novembro', 'Dezembro']\n",
        "    temperaturas = []\n",
        "\n",
        "    print(\"Digite as temperaturas médias de cada mês do ano (entre -273°C e 50°C):\")\n",
        "    for mes in meses:\n",
        "        while True:\n",
        "            try:\n",
        "                temperatura = input(f\"{mes}: \").replace(\",\", \".\")\n",
        "                temperatura = float(temperatura)\n",
        "                if -273 <= temperatura <= 50:\n",
        "                    temperaturas.append(temperatura)\n",
        "                    break\n",
        "                else:\n",
        "                    print(\"Temperatura inválida! Deve estar entre -273°C e 50°C. Tente novamente.\")\n",
        "            except ValueError:\n",
        "                print(\"Entrada inválida! Por favor, digite um número válido.\")\n",
        "\n",
        "    media_anual = sum(temperaturas) / len(temperaturas)\n",
        "    print(f\"\\nLista de temperaturas: {temperaturas}\")\n",
        "    print(f\"Média anual das temperaturas: {media_anual:.2f}°C\")\n",
        "\n",
        "    print(\"\\nMeses com temperaturas acima da média anual:\")\n",
        "    for i, temp in enumerate(temperaturas):\n",
        "        if temp > media_anual:\n",
        "            print(f\"{meses[i]}: {temp:.2f}°C\")\n",
        "\n",
        "    df = pd.DataFrame({\n",
        "        'Meses': meses,\n",
        "        'Temperaturas': temperaturas\n",
        "    })\n",
        "\n",
        "    sns.set_theme(style=\"whitegrid\")\n",
        "    plt.figure(figsize=(15, 6))\n",
        "\n",
        "    plt.subplot(1, 2, 1)\n",
        "    sns.lineplot(data=df, x='Meses', y='Temperaturas', marker='o', label='Temperatura Média', color='blue')\n",
        "    plt.axhline(y=media_anual, color='red', linestyle='--', linewidth=1.5, label=f'Média Anual ({media_anual:.2f}°C)')\n",
        "    plt.title('Gráfico de Linha: Tendência de Temperaturas', fontsize=14)\n",
        "    plt.xlabel('Meses', fontsize=12)\n",
        "    plt.ylabel('Gráfico 1 - Temperatura (°C)', fontsize=12)\n",
        "    plt.xticks(rotation=45)\n",
        "    plt.legend()\n",
        "\n",
        "    plt.subplot(1, 2, 2)\n",
        "    sns.scatterplot(data=df, x='Meses', y='Temperaturas', label='Temperaturas Mensais', color='blue', s=100)\n",
        "    plt.axhline(y=media_anual, color='red', linestyle='--', linewidth=1.5, label=f'Média Anual ({media_anual:.2f}°C)')\n",
        "    plt.title('Análise de Dispersão: Variação de Temperaturas', fontsize=14)\n",
        "    plt.xlabel('Meses', fontsize=12)\n",
        "    plt.ylabel('Gráfico 2 - Temperatura (°C)', fontsize=12)\n",
        "    plt.xticks(rotation=45)\n",
        "    plt.legend()\n",
        "\n",
        "    plt.tight_layout()\n",
        "    plt.show()\n",
        "\n",
        "    print('\\n* Gráfico 1: Tendência de Temperaturas')\n",
        "    print('* Gráfico 2: Variação de Temperaturas')\n",
        "\n",
        "estudo_temperatura()"
      ],
      "metadata": {
        "id": "ftj04s2uMgeF"
      },
      "execution_count": null,
      "outputs": []
    },
    {
      "cell_type": "markdown",
      "source": [],
      "metadata": {
        "id": "97AswykNKwKz"
      }
    },
    {
      "cell_type": "markdown",
      "source": [
        "#### Questão 11\n",
        "Uma empresa de e-commerce está interessada em analisar as vendas dos seus produtos. Os dados das vendas foram armazenados em um dicionário:\n",
        "```\n",
        "{'Produto A': 300, 'Produto B': 80, 'Produto C': 60,\n",
        " 'Produto D': 200, 'Produto E': 250, 'Produto F': 30}\n",
        "```\n",
        "Escreva um código que calcule o total de vendas e o produto mais vendido."
      ],
      "metadata": {
        "id": "0X8S6s4jMgeF"
      }
    },
    {
      "cell_type": "code",
      "source": [
        "produtos = {'Produto A': 300, 'Produto B': 80, 'Produto C': 60, 'Produto D': 200, 'Produto E': 250, 'Produto F': 30}\n",
        "total_vendas = sum(produtos.values())\n",
        "produto_mais_vendido = max(produtos, key=produtos.get)\n",
        "produto_menos_vendido = min(produtos, key=produtos.get)\n",
        "\n",
        "print(f\"Total de vendas: {total_vendas}\")\n",
        "print(f\"Produto mais vendido: {produto_mais_vendido}\")\n",
        "print(f\"Produto menos vendido: {produto_menos_vendido}\")\n"
      ],
      "metadata": {
        "id": "Xa3DJLtFMgeF"
      },
      "execution_count": null,
      "outputs": []
    },
    {
      "cell_type": "markdown",
      "source": [
        "#### Questão 12\n",
        "Uma pesquisa de mercado foi feita para decidir qual design de uma marca infantil mais agrada crianças. A pesquisa foi feita e o votos computados podem ser observados abaixo:\n",
        "```\n",
        "'''\n",
        "Tabela de votos da marca\n",
        "Design 1 - 1334 votos\n",
        "Design 2 - 982 votos\n",
        "Design 3 - 1751 votos\n",
        "Design 4 - 210 votos\n",
        "Design 5 - 1811 votos\n",
        "'''\n",
        "```\n",
        "Adapte os dados fornecidos a você para uma estrutura de dicionário e a partir dele, informe o design vencedor e a porcentagem de votos recebidos.\n"
      ],
      "metadata": {
        "id": "nrEwf_1ZMgeF"
      }
    },
    {
      "cell_type": "code",
      "source": [
        "marcas = {'Design 1': 1334, 'Design 2': 982, 'Design 3': 1751, 'Design 4': 210, 'Design 5': 1811}\n",
        "\n",
        "total_votos = sum(marcas.values())\n",
        "design_vencedor = max(marcas, key=marcas.get)\n",
        "\n",
        "print(f\"Total de votos: {total_votos}\")\n",
        "print(f\"Design vencedor: {design_vencedor} com {marcas[design_vencedor]} votos\")"
      ],
      "metadata": {
        "id": "MRPcGR-_MgeF"
      },
      "execution_count": null,
      "outputs": []
    },
    {
      "cell_type": "markdown",
      "source": [
        "#### Questão 13\n",
        "Os funcionários de um setor da empresa que você trabalha vão receber um abono correspondente a 10% do seu salário devido ao ótimo desempenho do time. O setor financeiro solicitou sua ajuda para a verificação das consequências financeiras que esse abono irá gerar nos recursos. Assim, foi encaminhada para você uma lista com os salários que receberão o abono: `[1172, 1644, 2617, 5130, 5532, 6341, 6650, 7238, 7685, 7782, 7903]`. O abono de cada funcionário não pode ser inferior a 200. Em código, transforme cada um dos salários em chaves de um dicionário e o abono de cada salário no elemento. Depois, informe o total de gastos com o abono, quantos funcionários receberam o abono mínimo e qual o maior valor de abono fornecido.\n"
      ],
      "metadata": {
        "id": "HRTFFzKIMgeF"
      }
    },
    {
      "cell_type": "code",
      "source": [
        "salarios = [1172, 1644, 2617, 5130, 5532, 6341, 6650, 7238, 7685, 7782, 7903]\n",
        "abonos = {}\n",
        "\n",
        "for salario in salarios:\n",
        "    abonos[salario] = max(0.10 * salario, 200)\n",
        "\n",
        "total_gastos = sum(abonos.values())\n",
        "abono_minimo = sum(1 for abono in abonos.values() if abono == 200)\n",
        "maior_abono = max(abonos.values())\n",
        "\n",
        "print(f\"Total de gastos com abono: R${total_gastos:.2f}\")\n",
        "print(f\"Funcionários que receberam o abono mínimo: {abono_minimo}\")\n",
        "print(f\"Maior valor de abono fornecido: R${maior_abono:.2f}\")"
      ],
      "metadata": {
        "id": "QsDSCua42bLB"
      },
      "execution_count": null,
      "outputs": []
    },
    {
      "cell_type": "markdown",
      "source": [
        "#### Questão 14\n",
        "Uma equipe de cientistas de dados está estudando a diversidade biológica em uma floresta. A equipe fez a coleta de informações sobre o número de espécies de plantas e animais em cada área da floresta e armazenaram essas informações em um dicionário. Nele, a chave descreve a área dos dados e os valores nas listas correspondem às espécies de plantas e animais nas áreas, respectivamente.\n",
        "```\n",
        "{'Área Norte': [2819, 7236],\n",
        " 'Área Leste': [1440, 9492],\n",
        " 'Área Sul': [5969, 7496],\n",
        " 'Área Oeste': [14446, 49688],\n",
        " 'Área Centro': [22558, 45148]}\n",
        "```\n",
        "Escreva um código para calcular a média de espécies por área e identificar a área com a maior diversidade biológica. Dica: use as funções built-in [`sum()`](https://docs.python.org/3/library/functions.html#sum) e [`len()`](https://docs.python.org/3/library/functions.html#len).\n"
      ],
      "metadata": {
        "id": "6dEXZEwjMlWy"
      }
    },
    {
      "cell_type": "code",
      "source": [
        "areas = {\n",
        "    'Área Norte': [2819, 7236],\n",
        "    'Área Leste': [1440, 9492],\n",
        "    'Área Sul': [5969, 7496],\n",
        "    'Área Oeste': [14446, 49688],\n",
        "    'Área Centro': [22558, 45148]\n",
        "}\n",
        "\n",
        "media_especies_por_area = {area: sum(especies) / len(especies) for area, especies in areas.items()}\n",
        "area_maior_diversidade = max(media_especies_por_area, key=media_especies_por_area.get)\n",
        "\n",
        "print(\"Média de espécies por área:\")\n",
        "for area, media in media_especies_por_area.items():\n",
        "    print(f\"{area}: {media:.2f}\")\n",
        "\n",
        "print(f\"\\nÁrea com maior diversidade biológica: {area_maior_diversidade} com média de {media_especies_por_area[area_maior_diversidade]:.2f} espécies\")"
      ],
      "metadata": {
        "id": "eQnOUDfYMlWy"
      },
      "execution_count": null,
      "outputs": []
    },
    {
      "cell_type": "markdown",
      "source": [
        "#### Questão 15\n",
        "O setor de RH da sua empresa te pediu uma ajuda para analisar as idades dos funcionários de 4 setores da empresa. Para isso, ele te forneceu os seguintes dados:\n",
        "```\n",
        "{'Setor A': [22, 26, 30, 30, 35, 38, 40, 56, 57, 65],\n",
        " 'Setor B': [22, 24, 26, 33, 41, 49, 50, 54, 60, 64],\n",
        " 'Setor C': [23, 26, 26, 29, 34, 35, 36, 41, 52, 56],\n",
        " 'Setor D': [19, 20, 25, 27, 34, 39, 42, 44, 50, 65]}\n",
        "```\n",
        "Sabendo que cada setor tem 10 funcionários, construa um código que calcule a média de idade de cada setor, a idade média geral entre todos os setores e quantas pessoas estão acima da idade média geral.\n"
      ],
      "metadata": {
        "id": "r0RW2Sy_MlWy"
      }
    },
    {
      "cell_type": "code",
      "source": [
        "setores = {\n",
        "    'Setor A': [22, 26, 30, 30, 35, 38, 40, 56, 57, 65],\n",
        "    'Setor B': [22, 24, 26, 33, 41, 49, 50, 54, 60, 64],\n",
        "    'Setor C': [23, 26, 26, 29, 34, 35, 36, 41, 52, 56],\n",
        "    'Setor D': [19, 20, 25, 27, 34, 39, 42, 44, 50, 65]\n",
        "}\n",
        "\n",
        "medias_setores = {setor: sum(idades) / len(idades) for setor, idades in setores.items()}\n",
        "todas_idades = [idade for idades in setores.values() for idade in idades]\n",
        "media_geral = sum(todas_idades) / len(todas_idades)\n",
        "acima_media = sum(1 for idade in todas_idades if idade > media_geral)\n",
        "\n",
        "print(\"Média de idade por setor:\")\n",
        "for setor, media in medias_setores.items():\n",
        "    print(f\"{setor}: {media:.2f}\")\n",
        "\n",
        "print(f\"\\nIdade média geral: {media_geral:.2f}\")\n",
        "print(f\"Pessoas acima da idade média geral: {acima_media}\")"
      ],
      "metadata": {
        "id": "wCiwyKP3MmTz",
        "colab": {
          "base_uri": "https://localhost:8080/"
        },
        "outputId": "004dc310-f2e5-4c5d-bb83-6186cfa4f28f"
      },
      "execution_count": null,
      "outputs": [
        {
          "output_type": "stream",
          "name": "stdout",
          "text": [
            "Média de idade por setor:\n",
            "Setor A: 39.90\n",
            "Setor B: 42.30\n",
            "Setor C: 35.80\n",
            "Setor D: 36.50\n",
            "\n",
            "Idade média geral: 38.62\n",
            "Pessoas acima da idade média geral: 18\n"
          ]
        }
      ]
    },
    {
      "cell_type": "code",
      "source": [],
      "metadata": {
        "id": "67gZW5ia7PYz"
      },
      "execution_count": null,
      "outputs": []
    }
  ]
}